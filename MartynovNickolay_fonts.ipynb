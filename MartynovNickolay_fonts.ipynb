{
 "cells": [
  {
   "cell_type": "markdown",
   "id": "4cca0e24",
   "metadata": {},
   "source": [
    "### Чтение шрифтов из папки fonts"
   ]
  },
  {
   "cell_type": "code",
   "execution_count": 1,
   "id": "2e8a1377",
   "metadata": {},
   "outputs": [
    {
     "name": "stdout",
     "output_type": "stream",
     "text": [
      "['fonts/Aguante/Aguante-Regular.otf', 'fonts/Ghastly Panic/GhastlyPanicCyr.otf', 'fonts/Brass Mono/BrassMono-Regular.ttf', 'fonts/Brass Mono/BrassMono-Italic.ttf', 'fonts/Brass Mono/BrassMono-BoldItalic.ttf', 'fonts/Brass Mono/BrassMono-Bold.ttf', 'fonts/Better VCR/better-vcr-5.2.ttf', 'fonts/Sans Collegiate One/AlumniSansCollegiateOne-Italic.ttf', 'fonts/Sans Collegiate One/AlumniSansCollegiateOne-Regular.ttf', 'fonts/Ganesha Type/GaneshaType-Regular.ttf', 'fonts/Tana Uncial SP/TanaUncialSP.otf', 'fonts/Realest/Realest-Extended.otf', 'fonts/Aref Ruqaa Ink/ArefRuqaaInk-Regular.ttf', 'fonts/Aref Ruqaa Ink/ArefRuqaaInk-Bold.ttf', 'fonts/Ambidexter/ambidexter_regular.otf']\n"
     ]
    }
   ],
   "source": [
    "import os\n",
    "\n",
    "def find_fonts(folder_path):\n",
    "    font_paths = []\n",
    "\n",
    "    for root, dirs, files in os.walk(folder_path):\n",
    "        for file in files:\n",
    "            if file.lower().endswith(('.ttf', '.otf')):\n",
    "                font_paths.append(os.path.join(root, file))\n",
    "\n",
    "    return font_paths\n",
    "\n",
    "\n",
    "folder_path = 'fonts'\n",
    "font_paths = find_fonts(folder_path)\n",
    "\n",
    "print(font_paths)\n"
   ]
  },
  {
   "cell_type": "code",
   "execution_count": 2,
   "id": "fb7bb64b",
   "metadata": {},
   "outputs": [
    {
     "name": "stdout",
     "output_type": "stream",
     "text": [
      "15\n"
     ]
    }
   ],
   "source": [
    "print(len(font_paths))"
   ]
  },
  {
   "cell_type": "markdown",
   "id": "a827d8a2",
   "metadata": {},
   "source": [
    "### Генерация обучающей и тестовой выборки на основании шрифтов"
   ]
  },
  {
   "cell_type": "code",
   "execution_count": 3,
   "id": "fa1f1401",
   "metadata": {},
   "outputs": [],
   "source": [
    "#!pip install pillow"
   ]
  },
  {
   "cell_type": "code",
   "execution_count": 4,
   "id": "eaf27825",
   "metadata": {},
   "outputs": [],
   "source": [
    "from PIL import Image, ImageDraw, ImageFont\n",
    "import random\n",
    "import os\n",
    "\n",
    "#пути для сохранения наборов данных\n",
    "train_path = 'train_data'\n",
    "test_path = 'test_data'\n",
    "\n",
    "#папки для обучающего и тестового наборов данных\n",
    "os.makedirs(train_path, exist_ok=True)\n",
    "os.makedirs(test_path, exist_ok=True)\n",
    "\n",
    "#список символов английского алфавита, которые могут появляться на изображениях\n",
    "characters = 'abcdefghijklmnopqrstuvwxyzABCDEFGHIJKLMNOPQRSTUVWXYZ'\n",
    "\n",
    "#функция для создания изображения с текстом и указанным шрифтом\n",
    "def create_image(font_path, text, image_size=(200, 100), text_position=(10, 10), font_size=40):\n",
    "    image = Image.new('RGB', image_size, 'white')\n",
    "    draw = ImageDraw.Draw(image)\n",
    "    font = ImageFont.truetype(font_path, font_size)\n",
    "    draw.text(text_position, text, font=font, fill='black')\n",
    "    return image\n",
    "\n",
    "#класс для каждого шрифта\n",
    "class FontDataset:\n",
    "    def __init__(self, font_path):\n",
    "        self.font_path = font_path\n",
    "        self.train_path = os.path.join(train_path, os.path.basename(font_path).replace(' ', '_').replace('/', '_'))\n",
    "        self.test_path = os.path.join(test_path, os.path.basename(font_path).replace(' ', '_').replace('/', '_'))\n",
    "        os.makedirs(self.train_path, exist_ok=True)\n",
    "        os.makedirs(self.test_path, exist_ok=True)\n",
    "\n",
    "    def generate_dataset(self, num_samples=100):\n",
    "        for _ in range(num_samples):\n",
    "            #добавлять в обучающий или тестовый набор данных\n",
    "            dataset_path = self.train_path if random.random() < 0.8 else self.test_path\n",
    "\n",
    "            #генерация случайного текста с 1-5 символами\n",
    "            text_length = random.randint(1, 5)\n",
    "            text = ''.join(random.choice(characters) for _ in range(text_length))\n",
    "\n",
    "            #создание изображения с указанным шрифтом и сохранение\n",
    "            image = create_image(self.font_path, text)\n",
    "            image_name = f\"{text}_{os.path.basename(self.font_path).replace(' ', '_').replace('/', '_')}.png\"\n",
    "            image.save(os.path.join(dataset_path, image_name))\n",
    "\n",
    "#создание объекта FontDataset для каждого шрифта и генерация набора данных\n",
    "for font_path in font_paths:\n",
    "    font_dataset = FontDataset(font_path)\n",
    "    font_dataset.generate_dataset(num_samples=100)  # 100 образцов\n"
   ]
  },
  {
   "cell_type": "markdown",
   "id": "ca76d3af",
   "metadata": {},
   "source": [
    "### Модуль обучения"
   ]
  },
  {
   "cell_type": "code",
   "execution_count": 5,
   "id": "8a4a4a80",
   "metadata": {},
   "outputs": [
    {
     "name": "stderr",
     "output_type": "stream",
     "text": [
      "2024-01-30 00:33:21.604023: I tensorflow/core/platform/cpu_feature_guard.cc:193] This TensorFlow binary is optimized with oneAPI Deep Neural Network Library (oneDNN) to use the following CPU instructions in performance-critical operations:  AVX2 FMA\n",
      "To enable them in other operations, rebuild TensorFlow with the appropriate compiler flags.\n",
      "2024-01-30 00:33:25.612098: I tensorflow/core/platform/cpu_feature_guard.cc:193] This TensorFlow binary is optimized with oneAPI Deep Neural Network Library (oneDNN) to use the following CPU instructions in performance-critical operations:  AVX2 FMA\n",
      "To enable them in other operations, rebuild TensorFlow with the appropriate compiler flags.\n"
     ]
    },
    {
     "name": "stdout",
     "output_type": "stream",
     "text": [
      "Found 1146 images belonging to 15 classes.\n",
      "Found 276 images belonging to 15 classes.\n",
      "Epoch 1/10\n",
      "35/35 [==============================] - 12s 315ms/step - loss: 8.2486 - accuracy: 0.2926 - val_loss: 1.2208 - val_accuracy: 0.6953\n",
      "Epoch 2/10\n",
      "35/35 [==============================] - 11s 308ms/step - loss: 0.7429 - accuracy: 0.7720 - val_loss: 0.5602 - val_accuracy: 0.7969\n",
      "Epoch 3/10\n",
      "35/35 [==============================] - 11s 307ms/step - loss: 0.3726 - accuracy: 0.8680 - val_loss: 0.4569 - val_accuracy: 0.8086\n",
      "Epoch 4/10\n",
      "35/35 [==============================] - 11s 307ms/step - loss: 0.2312 - accuracy: 0.9417 - val_loss: 0.3299 - val_accuracy: 0.8828\n",
      "Epoch 5/10\n",
      "35/35 [==============================] - 11s 310ms/step - loss: 0.1482 - accuracy: 0.9749 - val_loss: 0.2736 - val_accuracy: 0.9023\n",
      "Epoch 6/10\n",
      "35/35 [==============================] - 11s 309ms/step - loss: 0.1052 - accuracy: 0.9847 - val_loss: 0.2300 - val_accuracy: 0.9375\n",
      "Epoch 7/10\n",
      "35/35 [==============================] - 11s 314ms/step - loss: 0.0779 - accuracy: 0.9928 - val_loss: 0.2597 - val_accuracy: 0.8945\n",
      "Epoch 8/10\n",
      "35/35 [==============================] - 11s 311ms/step - loss: 0.0609 - accuracy: 0.9955 - val_loss: 0.1965 - val_accuracy: 0.9336\n",
      "Epoch 9/10\n",
      "35/35 [==============================] - 11s 309ms/step - loss: 0.0449 - accuracy: 0.9991 - val_loss: 0.2094 - val_accuracy: 0.9336\n",
      "Epoch 10/10\n",
      "35/35 [==============================] - 11s 311ms/step - loss: 0.0339 - accuracy: 0.9982 - val_loss: 0.1777 - val_accuracy: 0.9414\n"
     ]
    }
   ],
   "source": [
    "import tensorflow as tf\n",
    "from tensorflow.keras.models import Sequential\n",
    "from tensorflow.keras.layers import Conv2D, MaxPooling2D, Flatten, Dense\n",
    "from tensorflow.keras.preprocessing.image import ImageDataGenerator\n",
    "from sklearn.metrics import classification_report, confusion_matrix\n",
    "import matplotlib.pyplot as plt\n",
    "import os\n",
    "import csv\n",
    "\n",
    "#параметры нейросети (можно захардкодить или передавать извне)\n",
    "input_shape = (200, 100, 3)\n",
    "num_classes = 15\n",
    "epochs = 10\n",
    "batch_size = 32\n",
    "\n",
    "#создание нейросети\n",
    "model = Sequential()\n",
    "model.add(Conv2D(32, (3, 3), input_shape=input_shape, activation='relu'))\n",
    "model.add(MaxPooling2D(pool_size=(2, 2)))\n",
    "model.add(Flatten())\n",
    "model.add(Dense(128, activation='relu'))\n",
    "model.add(Dense(num_classes, activation='softmax'))\n",
    "\n",
    "#компиляция модели\n",
    "model.compile(optimizer='adam', loss='categorical_crossentropy', metrics=['accuracy'])\n",
    "\n",
    "#загрузка данных\n",
    "train_data_dir = 'train_data'\n",
    "test_data_dir = 'test_data'\n",
    "\n",
    "train_datagen = ImageDataGenerator(rescale=1./255)\n",
    "test_datagen = ImageDataGenerator(rescale=1./255)\n",
    "\n",
    "train_generator = train_datagen.flow_from_directory(\n",
    "    train_data_dir,\n",
    "    target_size=input_shape[:2],\n",
    "    batch_size=batch_size,\n",
    "    class_mode='categorical'\n",
    ")\n",
    "\n",
    "test_generator = test_datagen.flow_from_directory(\n",
    "    test_data_dir,\n",
    "    target_size=input_shape[:2],\n",
    "    batch_size=batch_size,\n",
    "    class_mode='categorical'\n",
    ")\n",
    "\n",
    "#обучение нейросети\n",
    "history = model.fit(\n",
    "    train_generator,\n",
    "    steps_per_epoch=train_generator.samples // batch_size,\n",
    "    epochs=epochs,\n",
    "    validation_data=test_generator,\n",
    "    validation_steps=test_generator.samples // batch_size\n",
    ")\n",
    "\n",
    "#логгирование ошибок\n",
    "log_file = 'training_log.csv'\n",
    "\n",
    "with open(log_file, 'w', newline='') as csvfile:\n",
    "    fieldnames = ['epoch', 'train_loss', 'train_accuracy', 'val_loss', 'val_accuracy']\n",
    "    writer = csv.DictWriter(csvfile, fieldnames=fieldnames)\n",
    "    writer.writeheader()\n",
    "\n",
    "    for epoch in range(epochs):\n",
    "        writer.writerow({\n",
    "            'epoch': epoch + 1,\n",
    "            'train_loss': history.history['loss'][epoch],\n",
    "            'train_accuracy': history.history['accuracy'][epoch],\n",
    "            'val_loss': history.history['val_loss'][epoch],\n",
    "            'val_accuracy': history.history['val_accuracy'][epoch]\n",
    "        })\n"
   ]
  },
  {
   "cell_type": "markdown",
   "id": "c0b058b7",
   "metadata": {},
   "source": [
    "### Оценка основных метрик классификации"
   ]
  },
  {
   "cell_type": "code",
   "execution_count": 6,
   "id": "686f90c4",
   "metadata": {},
   "outputs": [
    {
     "name": "stderr",
     "output_type": "stream",
     "text": [
      "/Users/k18/Library/Python/3.7/lib/python/site-packages/ipykernel_launcher.py:4: UserWarning: `Model.evaluate_generator` is deprecated and will be removed in a future version. Please use `Model.evaluate`, which supports generators.\n",
      "  after removing the cwd from sys.path.\n"
     ]
    },
    {
     "name": "stdout",
     "output_type": "stream",
     "text": [
      "Evaluation Loss: 0.20763172209262848\n",
      "Evaluation Accuracy: 0.9311594367027283\n"
     ]
    },
    {
     "name": "stderr",
     "output_type": "stream",
     "text": [
      "/Users/k18/Library/Python/3.7/lib/python/site-packages/ipykernel_launcher.py:10: UserWarning: `Model.predict_generator` is deprecated and will be removed in a future version. Please use `Model.predict`, which supports generators.\n",
      "  # Remove the CWD from sys.path while we load stuff.\n"
     ]
    },
    {
     "name": "stdout",
     "output_type": "stream",
     "text": [
      "Classification Report:\n",
      "              precision    recall  f1-score   support\n",
      "\n",
      "           0       0.09      0.07      0.08        28\n",
      "           1       0.00      0.00      0.00        16\n",
      "           2       0.15      0.13      0.14        31\n",
      "           3       0.06      0.09      0.07        11\n",
      "           4       0.00      0.00      0.00        17\n",
      "           5       0.06      0.06      0.06        18\n",
      "           6       0.06      0.06      0.06        18\n",
      "           7       0.00      0.00      0.00        15\n",
      "           8       0.13      0.12      0.13        16\n",
      "           9       0.10      0.10      0.10        20\n",
      "          10       0.00      0.00      0.00        14\n",
      "          11       0.07      0.06      0.07        16\n",
      "          12       0.24      0.21      0.22        19\n",
      "          13       0.06      0.06      0.06        17\n",
      "          14       0.00      0.00      0.00         0\n",
      "\n",
      "    accuracy                           0.07       256\n",
      "   macro avg       0.07      0.06      0.07       256\n",
      "weighted avg       0.08      0.07      0.08       256\n",
      "\n",
      "Confusion Matrix:\n",
      "[[2 4 1 3 1 0 1 1 2 5 1 1 3 2 1]\n",
      " [0 0 3 1 2 1 0 0 0 2 3 2 0 0 2]\n",
      " [3 0 4 0 1 1 4 3 3 2 1 1 2 3 3]\n",
      " [1 0 2 1 0 1 1 0 1 1 0 0 0 1 2]\n",
      " [0 0 1 2 0 1 1 3 1 2 2 2 0 1 1]\n",
      " [2 0 0 3 0 1 1 2 0 1 0 1 2 2 3]\n",
      " [3 1 2 0 0 5 1 2 0 0 0 2 0 1 1]\n",
      " [1 3 2 3 1 0 1 0 2 0 0 0 1 1 0]\n",
      " [2 1 2 0 2 1 1 1 2 1 1 0 0 0 2]\n",
      " [2 2 3 0 1 1 3 0 0 2 1 1 1 2 1]\n",
      " [2 1 2 1 1 3 0 0 0 2 0 0 1 1 0]\n",
      " [0 1 3 1 2 0 2 0 0 0 2 1 1 3 0]\n",
      " [3 1 0 1 0 0 0 2 2 2 1 2 4 0 1]\n",
      " [2 2 1 1 0 1 0 2 2 0 0 1 2 1 2]\n",
      " [0 0 0 0 0 0 0 0 0 0 0 0 0 0 0]]\n"
     ]
    },
    {
     "name": "stderr",
     "output_type": "stream",
     "text": [
      "/usr/local/lib/python3.7/site-packages/sklearn/metrics/_classification.py:1318: UndefinedMetricWarning: Recall and F-score are ill-defined and being set to 0.0 in labels with no true samples. Use `zero_division` parameter to control this behavior.\n",
      "  _warn_prf(average, modifier, msg_start, len(result))\n",
      "/usr/local/lib/python3.7/site-packages/sklearn/metrics/_classification.py:1318: UndefinedMetricWarning: Recall and F-score are ill-defined and being set to 0.0 in labels with no true samples. Use `zero_division` parameter to control this behavior.\n",
      "  _warn_prf(average, modifier, msg_start, len(result))\n",
      "/usr/local/lib/python3.7/site-packages/sklearn/metrics/_classification.py:1318: UndefinedMetricWarning: Recall and F-score are ill-defined and being set to 0.0 in labels with no true samples. Use `zero_division` parameter to control this behavior.\n",
      "  _warn_prf(average, modifier, msg_start, len(result))\n"
     ]
    },
    {
     "data": {
      "image/png": "[encoded data removed]",
      "text/plain": [
       "<Figure size 640x480 with 1 Axes>"
      ]
     },
     "metadata": {},
     "output_type": "display_data"
    },
    {
     "data": {
      "image/png": "[encoded data removed]",
      "text/plain": [
       "<Figure size 640x480 with 1 Axes>"
      ]
     },
     "metadata": {},
     "output_type": "display_data"
    }
   ],
   "source": [
    "import numpy as np\n",
    "#оценка метрик\n",
    "test_steps = test_generator.samples // batch_size + 1  # Используйте +1 для учета остаточных изображений\n",
    "evaluation = model.evaluate_generator(test_generator, steps=test_steps)\n",
    "print(\"Evaluation Loss:\", evaluation[0])\n",
    "print(\"Evaluation Accuracy:\", evaluation[1])\n",
    "\n",
    "#предсказание классов\n",
    "test_steps = test_generator.samples // batch_size\n",
    "predictions = model.predict_generator(test_generator, steps=test_steps)\n",
    "predicted_classes = np.argmax(predictions, axis=1)\n",
    "true_classes = test_generator.classes\n",
    "\n",
    "print(\"Classification Report:\")\n",
    "print(classification_report(true_classes[:len(predicted_classes)], predicted_classes))\n",
    "\n",
    "print(\"Confusion Matrix:\")\n",
    "print(confusion_matrix(true_classes[:len(predicted_classes)], predicted_classes))\n",
    "\n",
    "\n",
    "#отрисовка кривых обучающей и тестовой ошибок\n",
    "plt.plot(history.history['loss'], label='Training Loss')\n",
    "plt.plot(history.history['val_loss'], label='Validation Loss')\n",
    "plt.xlabel('Epoch')\n",
    "plt.ylabel('Loss')\n",
    "plt.legend()\n",
    "plt.show()\n",
    "\n",
    "plt.plot(history.history['accuracy'], label='Training Accuracy')\n",
    "plt.plot(history.history['val_accuracy'], label='Validation Accuracy')\n",
    "plt.xlabel('Epoch')\n",
    "plt.ylabel('Accuracy')\n",
    "plt.legend()\n",
    "plt.show()"
   ]
  },
  {
   "cell_type": "markdown",
   "id": "137a8966",
   "metadata": {},
   "source": [
    "### Сохранение чекпойнта модели"
   ]
  },
  {
   "cell_type": "code",
   "execution_count": 7,
   "id": "5285e9de",
   "metadata": {},
   "outputs": [],
   "source": [
    "model.save('font_model.h5')"
   ]
  },
  {
   "cell_type": "markdown",
   "id": "7881b1d7",
   "metadata": {},
   "source": [
    "# Консольное приложение \n",
    "\n",
    "> pip install virtualenv\n",
    "\n",
    "> virtualenv venv\n",
    "\n",
    "> source venv/bin/activate\n",
    "\n",
    "> pip install tensorflow numpy\n",
    "\n",
    "> pip install Pillow\n",
    "\n",
    "> python3 font.py font_model.h5 test.png\n",
    "\n",
    "> deactivate"
   ]
  }
 ],
 "metadata": {
  "kernelspec": {
   "display_name": "Python 3 (ipykernel)",
   "language": "python",
   "name": "python3"
  },
  "language_info": {
   "codemirror_mode": {
    "name": "ipython",
    "version": 3
   },
   "file_extension": ".py",
   "mimetype": "text/x-python",
   "name": "python",
   "nbconvert_exporter": "python",
   "pygments_lexer": "ipython3",
   "version": "3.7.16"
  }
 },
 "nbformat": 4,
 "nbformat_minor": 5
}
