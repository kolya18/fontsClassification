{
 "cells": [
  {
   "cell_type": "markdown",
   "id": "4cca0e24",
   "metadata": {},
   "source": [
    "### Чтение шрифтов из папки fonts"
   ]
  },
  {
   "cell_type": "code",
   "execution_count": 1,
   "id": "2e8a1377",
   "metadata": {},
   "outputs": [
    {
     "name": "stdout",
     "output_type": "stream",
     "text": [
      "['fonts/Aguante/Aguante-Regular.otf', 'fonts/Ghastly Panic/GhastlyPanicCyr.otf', 'fonts/Brass Mono/BrassMono-Regular.ttf', 'fonts/Brass Mono/BrassMono-Italic.ttf', 'fonts/Brass Mono/BrassMono-BoldItalic.ttf', 'fonts/Brass Mono/BrassMono-Bold.ttf', 'fonts/Better VCR/better-vcr-5.2.ttf', 'fonts/Sans Collegiate One/AlumniSansCollegiateOne-Italic.ttf', 'fonts/Sans Collegiate One/AlumniSansCollegiateOne-Regular.ttf', 'fonts/Ganesha Type/GaneshaType-Regular.ttf', 'fonts/Tana Uncial SP/TanaUncialSP.otf', 'fonts/Realest/Realest-Extended.otf', 'fonts/Aref Ruqaa Ink/ArefRuqaaInk-Regular.ttf', 'fonts/Aref Ruqaa Ink/ArefRuqaaInk-Bold.ttf', 'fonts/Ambidexter/ambidexter_regular.otf']\n"
     ]
    }
   ],
   "source": [
    "import os\n",
    "\n",
    "def find_fonts(folder_path):\n",
    "    font_paths = []\n",
    "\n",
    "    for root, dirs, files in os.walk(folder_path):\n",
    "        for file in files:\n",
    "            if file.lower().endswith(('.ttf', '.otf')):\n",
    "                font_paths.append(os.path.join(root, file))\n",
    "\n",
    "    return font_paths\n",
    "\n",
    "\n",
    "folder_path = 'fonts'\n",
    "font_paths = find_fonts(folder_path)\n",
    "\n",
    "print(font_paths)\n"
   ]
  },
  {
   "cell_type": "code",
   "execution_count": 2,
   "id": "fb7bb64b",
   "metadata": {},
   "outputs": [
    {
     "name": "stdout",
     "output_type": "stream",
     "text": [
      "15\n"
     ]
    }
   ],
   "source": [
    "print(len(font_paths))"
   ]
  },
  {
   "cell_type": "code",
   "execution_count": 3,
   "id": "a411d392",
   "metadata": {},
   "outputs": [
    {
     "name": "stdout",
     "output_type": "stream",
     "text": [
      "{0: 'fonts/Aguante/Aguante-Regular.otf', 1: 'fonts/Ghastly Panic/GhastlyPanicCyr.otf', 2: 'fonts/Brass Mono/BrassMono-Regular.ttf', 3: 'fonts/Brass Mono/BrassMono-Italic.ttf', 4: 'fonts/Brass Mono/BrassMono-BoldItalic.ttf', 5: 'fonts/Brass Mono/BrassMono-Bold.ttf', 6: 'fonts/Better VCR/better-vcr-5.2.ttf', 7: 'fonts/Sans Collegiate One/AlumniSansCollegiateOne-Italic.ttf', 8: 'fonts/Sans Collegiate One/AlumniSansCollegiateOne-Regular.ttf', 9: 'fonts/Ganesha Type/GaneshaType-Regular.ttf', 10: 'fonts/Tana Uncial SP/TanaUncialSP.otf', 11: 'fonts/Realest/Realest-Extended.otf', 12: 'fonts/Aref Ruqaa Ink/ArefRuqaaInk-Regular.ttf', 13: 'fonts/Aref Ruqaa Ink/ArefRuqaaInk-Bold.ttf', 14: 'fonts/Ambidexter/ambidexter_regular.otf'}\n"
     ]
    }
   ],
   "source": [
    "mapping = {index: value for index, value in enumerate(font_paths)}\n",
    "\n",
    "print(mapping)"
   ]
  },
  {
   "cell_type": "markdown",
   "id": "a827d8a2",
   "metadata": {},
   "source": [
    "### Генерация обучающей и тестовой выборки на основании шрифтов"
   ]
  },
  {
   "cell_type": "code",
   "execution_count": 4,
   "id": "fa1f1401",
   "metadata": {},
   "outputs": [],
   "source": [
    "#!pip install pillow"
   ]
  },
  {
   "cell_type": "code",
   "execution_count": 5,
   "id": "0cf1b81b",
   "metadata": {},
   "outputs": [],
   "source": [
    "from PIL import Image, ImageDraw, ImageFont\n",
    "import random\n",
    "import os\n",
    "\n",
    "# Определение путей для сохранения наборов данных\n",
    "train_path = 'train_data'\n",
    "test_path = 'test_data'\n",
    "\n",
    "# Создание папок для обучающего и тестового наборов данных\n",
    "os.makedirs(train_path, exist_ok=True)\n",
    "os.makedirs(test_path, exist_ok=True)\n",
    "\n",
    "# Определение списка символов английского алфавита\n",
    "characters = 'abcdefghijklmnopqrstuvwxyzABCDEFGHIJKLMNOPQRSTUVWXYZ'\n",
    "\n",
    "# Функция для создания изображения с текстом и указанным шрифтом с аугментацией\n",
    "def create_augmented_image(font_path, text, image_size=(200, 100), text_position=(10, 10), font_size=50):\n",
    "    image = Image.new('RGB', image_size, 'white')\n",
    "    draw = ImageDraw.Draw(image)\n",
    "    font = ImageFont.truetype(font_path, font_size)\n",
    "\n",
    "    # Введение случайного поворота\n",
    "    rotation_angle = random.uniform(-10, 10)\n",
    "    rotated_image = image.rotate(rotation_angle, resample=Image.BICUBIC, expand=True)\n",
    "\n",
    "    # Введение случайного смещения\n",
    "    x_offset = random.randint(-5, 5)\n",
    "    y_offset = random.randint(-5, 5)\n",
    "    translated_image = Image.new('RGB', image_size, 'white')\n",
    "    translated_image.paste(rotated_image, (x_offset, y_offset))\n",
    "\n",
    "    # Применение текста\n",
    "    draw = ImageDraw.Draw(translated_image)\n",
    "    draw.text(text_position, text, font=font, fill='black')\n",
    "\n",
    "    return translated_image\n",
    "\n",
    "# Класс для каждого шрифта с аугментацией\n",
    "class AugmentedFontDataset:\n",
    "    def __init__(self, font_path):\n",
    "        self.font_path = font_path\n",
    "        self.train_path = os.path.join(train_path, os.path.basename(font_path).replace(' ', '_').replace('/', '_'))\n",
    "        self.test_path = os.path.join(test_path, os.path.basename(font_path).replace(' ', '_').replace('/', '_'))\n",
    "        os.makedirs(self.train_path, exist_ok=True)\n",
    "        os.makedirs(self.test_path, exist_ok=True)\n",
    "\n",
    "    def generate_dataset(self, num_samples=100, train_ratio=0.8):\n",
    "        num_train_samples = int(num_samples * train_ratio)\n",
    "        num_test_samples = num_samples - num_train_samples\n",
    "\n",
    "        train_counter, test_counter = 0, 0\n",
    "\n",
    "        for _ in range(num_samples):\n",
    "            # Определение, добавлять в обучающий или тестовый набор данных\n",
    "            if train_counter < num_train_samples:\n",
    "                dataset_path = self.train_path\n",
    "                train_counter += 1\n",
    "            else:\n",
    "                dataset_path = self.test_path\n",
    "                test_counter += 1\n",
    "\n",
    "            # Генерация случайного текста\n",
    "            text_length = random.randint(1, 5)\n",
    "            text = ''.join(random.choice(characters) for _ in range(text_length))\n",
    "\n",
    "            # Создание аугментированного изображения с указанным шрифтом и сохранение\n",
    "            augmented_image = create_augmented_image(self.font_path, text)\n",
    "            image_name = f\"{text}_{os.path.basename(self.font_path).replace(' ', '_').replace('/', '_')}.png\"\n",
    "            augmented_image.save(os.path.join(dataset_path, image_name))\n",
    "\n",
    "# Создание объектов AugmentedFontDataset и генерация наборов данных\n",
    "for font_path in font_paths:\n",
    "    augmented_font_dataset = AugmentedFontDataset(font_path)\n",
    "    augmented_font_dataset.generate_dataset(num_samples=100, train_ratio=0.8)\n"
   ]
  },
  {
   "cell_type": "markdown",
   "id": "ca76d3af",
   "metadata": {},
   "source": [
    "### Модуль обучения"
   ]
  },
  {
   "cell_type": "code",
   "execution_count": 6,
   "id": "1aa73e9c",
   "metadata": {},
   "outputs": [
    {
     "name": "stderr",
     "output_type": "stream",
     "text": [
      "2024-02-05 16:53:24.896307: I tensorflow/core/platform/cpu_feature_guard.cc:193] This TensorFlow binary is optimized with oneAPI Deep Neural Network Library (oneDNN) to use the following CPU instructions in performance-critical operations:  AVX2 FMA\n",
      "To enable them in other operations, rebuild TensorFlow with the appropriate compiler flags.\n",
      "2024-02-05 16:53:28.461782: I tensorflow/core/platform/cpu_feature_guard.cc:193] This TensorFlow binary is optimized with oneAPI Deep Neural Network Library (oneDNN) to use the following CPU instructions in performance-critical operations:  AVX2 FMA\n",
      "To enable them in other operations, rebuild TensorFlow with the appropriate compiler flags.\n"
     ]
    },
    {
     "name": "stdout",
     "output_type": "stream",
     "text": [
      "Found 1137 images belonging to 15 classes.\n",
      "Found 296 images belonging to 15 classes.\n",
      "Epoch 1/10\n",
      "35/35 [==============================] - 12s 326ms/step - loss: 11.4585 - accuracy: 0.1747 - val_loss: 1.7613 - val_accuracy: 0.4688\n",
      "Epoch 2/10\n",
      "35/35 [==============================] - 11s 305ms/step - loss: 0.8924 - accuracy: 0.7575 - val_loss: 0.7252 - val_accuracy: 0.7708\n",
      "Epoch 3/10\n",
      "35/35 [==============================] - 11s 317ms/step - loss: 0.3195 - accuracy: 0.9303 - val_loss: 0.5055 - val_accuracy: 0.8403\n",
      "Epoch 4/10\n",
      "35/35 [==============================] - 12s 332ms/step - loss: 0.1395 - accuracy: 0.9783 - val_loss: 0.4498 - val_accuracy: 0.8576\n",
      "Epoch 5/10\n",
      "35/35 [==============================] - 11s 307ms/step - loss: 0.0724 - accuracy: 0.9955 - val_loss: 0.3809 - val_accuracy: 0.8750\n",
      "Epoch 6/10\n",
      "35/35 [==============================] - 10s 294ms/step - loss: 0.0359 - accuracy: 1.0000 - val_loss: 0.3900 - val_accuracy: 0.8646\n",
      "Epoch 7/10\n",
      "35/35 [==============================] - 10s 297ms/step - loss: 0.0223 - accuracy: 1.0000 - val_loss: 0.3845 - val_accuracy: 0.8646\n",
      "Epoch 8/10\n",
      "35/35 [==============================] - 10s 293ms/step - loss: 0.0147 - accuracy: 1.0000 - val_loss: 0.3720 - val_accuracy: 0.8715\n",
      "Epoch 9/10\n",
      "35/35 [==============================] - 10s 293ms/step - loss: 0.0097 - accuracy: 1.0000 - val_loss: 0.3692 - val_accuracy: 0.8715\n",
      "Epoch 10/10\n",
      "35/35 [==============================] - 10s 294ms/step - loss: 0.0079 - accuracy: 1.0000 - val_loss: 0.3662 - val_accuracy: 0.8715\n"
     ]
    }
   ],
   "source": [
    "import tensorflow as tf\n",
    "from tensorflow.keras.models import Sequential\n",
    "from tensorflow.keras.layers import Conv2D, MaxPooling2D, Flatten, Dense\n",
    "from tensorflow.keras.preprocessing.image import ImageDataGenerator\n",
    "from sklearn.metrics import classification_report, confusion_matrix\n",
    "import matplotlib.pyplot as plt\n",
    "import os\n",
    "import csv\n",
    "\n",
    "#параметры нейросети (можно захардкодить или передавать извне)\n",
    "input_shape = (200, 100, 3)\n",
    "num_classes = 15\n",
    "epochs = 10\n",
    "batch_size = 32\n",
    "\n",
    "#создание нейросети\n",
    "model = Sequential()\n",
    "model.add(Conv2D(32, (3, 3), input_shape=input_shape, activation='relu'))\n",
    "model.add(MaxPooling2D(pool_size=(2, 2)))\n",
    "model.add(Flatten())\n",
    "model.add(Dense(128, activation='relu'))\n",
    "model.add(Dense(num_classes, activation='softmax'))\n",
    "\n",
    "#компиляция модели\n",
    "model.compile(optimizer='adam', loss='categorical_crossentropy', metrics=['accuracy'])\n",
    "\n",
    "#загрузка данных\n",
    "train_data_dir = 'train_data'\n",
    "test_data_dir = 'test_data'\n",
    "\n",
    "train_datagen = ImageDataGenerator(rescale=1./255)\n",
    "test_datagen = ImageDataGenerator(rescale=1./255)\n",
    "\n",
    "train_generator = train_datagen.flow_from_directory(\n",
    "    train_data_dir,\n",
    "    target_size=input_shape[:2],\n",
    "    batch_size=batch_size,\n",
    "    class_mode='categorical'\n",
    ")\n",
    "\n",
    "test_generator = test_datagen.flow_from_directory(\n",
    "    test_data_dir,\n",
    "    target_size=input_shape[:2],\n",
    "    batch_size=batch_size,\n",
    "    class_mode='categorical'\n",
    ")\n",
    "\n",
    "#обучение нейросети\n",
    "history = model.fit(\n",
    "    train_generator,\n",
    "    steps_per_epoch=train_generator.samples // batch_size,\n",
    "    epochs=epochs,\n",
    "    validation_data=test_generator,\n",
    "    validation_steps=test_generator.samples // batch_size\n",
    ")\n",
    "\n",
    "#логгирование ошибок\n",
    "log_file = 'training_log.csv'\n",
    "\n",
    "with open(log_file, 'w', newline='') as csvfile:\n",
    "    fieldnames = ['epoch', 'train_loss', 'train_accuracy', 'val_loss', 'val_accuracy']\n",
    "    writer = csv.DictWriter(csvfile, fieldnames=fieldnames)\n",
    "    writer.writeheader()\n",
    "\n",
    "    for epoch in range(epochs):\n",
    "        writer.writerow({\n",
    "            'epoch': epoch + 1,\n",
    "            'train_loss': history.history['loss'][epoch],\n",
    "            'train_accuracy': history.history['accuracy'][epoch],\n",
    "            'val_loss': history.history['val_loss'][epoch],\n",
    "            'val_accuracy': history.history['val_accuracy'][epoch]\n",
    "        })"
   ]
  },
  {
   "cell_type": "markdown",
   "id": "c0b058b7",
   "metadata": {},
   "source": [
    "### Оценка основных метрик классификации"
   ]
  },
  {
   "cell_type": "code",
   "execution_count": 7,
   "id": "92351421",
   "metadata": {},
   "outputs": [
    {
     "name": "stdout",
     "output_type": "stream",
     "text": [
      "Версия TensorFlow: 2.11.0\n"
     ]
    }
   ],
   "source": [
    "print(\"Версия TensorFlow:\", tf.__version__)"
   ]
  },
  {
   "cell_type": "markdown",
   "id": "d191660b",
   "metadata": {},
   "source": [
    "В 2.15.0 есть tf.keras.metrics.F1Score (https://www.tensorflow.org/api_docs/python/tf/keras/metrics/F1Score)"
   ]
  },
  {
   "cell_type": "code",
   "execution_count": 8,
   "id": "622d30c0",
   "metadata": {},
   "outputs": [
    {
     "name": "stdout",
     "output_type": "stream",
     "text": [
      "Precision: 0.89045936\n",
      "Recall: 0.8513514\n",
      "Аccuracy: 0.8648649\n",
      "F1-Score: 0.8644847790329433\n"
     ]
    },
    {
     "data": {
      "image/png": "[encoded data removed]",
      "text/plain": [
       "<Figure size 640x480 with 1 Axes>"
      ]
     },
     "metadata": {},
     "output_type": "display_data"
    },
    {
     "data": {
      "image/png": "[encoded data removed]",
      "text/plain": [
       "<Figure size 640x480 with 1 Axes>"
      ]
     },
     "metadata": {},
     "output_type": "display_data"
    }
   ],
   "source": [
    "import numpy as np\n",
    "import tensorflow as tf\n",
    "from sklearn.metrics import classification_report, confusion_matrix, f1_score, accuracy_score\n",
    "import matplotlib.pyplot as plt\n",
    "\n",
    "# Создать экземпляры метрик\n",
    "precision = tf.keras.metrics.Precision()\n",
    "recall = tf.keras.metrics.Recall()\n",
    "accuracy = tf.keras.metrics.Accuracy()\n",
    "\n",
    "# Оценка на тестовых данных\n",
    "test_steps = test_generator.samples // batch_size + 1\n",
    "true_labels = []\n",
    "predicted_labels = []\n",
    "\n",
    "for _ in range(test_steps):\n",
    "    batch_data, batch_labels = test_generator.next()\n",
    "    predictions = model.predict_on_batch(batch_data)\n",
    "    \n",
    "    precision.update_state(batch_labels, predictions)\n",
    "    recall.update_state(batch_labels, predictions)\n",
    "    accuracy.update_state(tf.argmax(batch_labels, axis=1), tf.argmax(predictions, axis=1))\n",
    "\n",
    "    true_labels.extend(np.argmax(batch_labels, axis=1))\n",
    "    predicted_labels.extend(np.argmax(predictions, axis=1))\n",
    "\n",
    "# Получение значения метрик\n",
    "precision_result = precision.result().numpy()\n",
    "recall_result = recall.result().numpy()\n",
    "accuracy_result = accuracy.result().numpy()\n",
    "f1score_result = f1_score(true_labels, predicted_labels, average='weighted')\n",
    "\n",
    "print(\"Precision:\", precision_result)\n",
    "print(\"Recall:\", recall_result)\n",
    "print(\"Аccuracy:\", accuracy_result)\n",
    "print(\"F1-Score:\", f1score_result)\n",
    "\n",
    "# Отрисовка кривых обучения и тестирования\n",
    "plt.plot(history.history['loss'], label='Training Loss')\n",
    "plt.plot(history.history['val_loss'], label='Validation Loss')\n",
    "plt.xlabel('Epoch')\n",
    "plt.ylabel('Loss')\n",
    "plt.legend()\n",
    "plt.show()\n",
    "\n",
    "plt.plot(history.history['accuracy'], label='Training Accuracy')\n",
    "plt.plot(history.history['val_accuracy'], label='Validation Accuracy')\n",
    "plt.xlabel('Epoch')\n",
    "plt.ylabel('Accuracy')\n",
    "plt.legend()\n",
    "plt.show()\n"
   ]
  },
  {
   "cell_type": "code",
   "execution_count": 11,
   "id": "92d31a1a",
   "metadata": {},
   "outputs": [
    {
     "name": "stdout",
     "output_type": "stream",
     "text": [
      "Classification Report:\n",
      "                                     precision    recall  f1-score   support\n",
      "\n",
      "                Aguante-Regular.otf       1.00      0.95      0.97        19\n",
      " AlumniSansCollegiateOne-Italic.ttf       0.75      0.75      0.75        20\n",
      "AlumniSansCollegiateOne-Regular.ttf       0.76      0.65      0.70        20\n",
      "              ArefRuqaaInk-Bold.ttf       0.81      0.85      0.83        20\n",
      "           ArefRuqaaInk-Regular.ttf       0.84      0.80      0.82        20\n",
      "                 BrassMono-Bold.ttf       0.82      0.90      0.86        20\n",
      "           BrassMono-BoldItalic.ttf       0.88      0.75      0.81        20\n",
      "               BrassMono-Italic.ttf       0.73      0.95      0.83        20\n",
      "              BrassMono-Regular.ttf       0.88      0.79      0.83        19\n",
      "            GaneshaType-Regular.ttf       1.00      0.85      0.92        20\n",
      "                GhastlyPanicCyr.otf       0.80      1.00      0.89        20\n",
      "               Realest-Extended.otf       1.00      1.00      1.00        19\n",
      "                   TanaUncialSP.otf       0.90      0.90      0.90        20\n",
      "             ambidexter_regular.otf       0.90      0.95      0.93        20\n",
      "                 better-vcr-5.2.ttf       1.00      0.89      0.94        19\n",
      "\n",
      "                           accuracy                           0.86       296\n",
      "                          macro avg       0.87      0.87      0.87       296\n",
      "                       weighted avg       0.87      0.86      0.86       296\n",
      "\n",
      "Confusion Matrix:\n",
      "[[18  0  0  0  0  0  0  0  0  0  0  0  0  1  0]\n",
      " [ 0 15  4  0  0  0  0  0  0  0  0  0  1  0  0]\n",
      " [ 0  5 13  0  0  1  0  0  0  0  0  0  0  1  0]\n",
      " [ 0  0  0 17  3  0  0  0  0  0  0  0  0  0  0]\n",
      " [ 0  0  0  4 16  0  0  0  0  0  0  0  0  0  0]\n",
      " [ 0  0  0  0  0 18  1  0  1  0  0  0  0  0  0]\n",
      " [ 0  0  0  0  0  0 15  5  0  0  0  0  0  0  0]\n",
      " [ 0  0  0  0  0  0  1 19  0  0  0  0  0  0  0]\n",
      " [ 0  0  0  0  0  2  0  1 15  0  1  0  0  0  0]\n",
      " [ 0  0  0  0  0  0  0  1  0 17  1  0  1  0  0]\n",
      " [ 0  0  0  0  0  0  0  0  0  0 20  0  0  0  0]\n",
      " [ 0  0  0  0  0  0  0  0  0  0  0 19  0  0  0]\n",
      " [ 0  0  0  0  0  0  0  0  0  0  2  0 18  0  0]\n",
      " [ 0  0  0  0  0  0  0  0  0  0  1  0  0 19  0]\n",
      " [ 0  0  0  0  0  1  0  0  1  0  0  0  0  0 17]]\n"
     ]
    }
   ],
   "source": [
    "class_names = list(train_generator.class_indices.keys())\n",
    "\n",
    "print(\"Classification Report:\")\n",
    "print(classification_report(true_labels, predicted_labels, target_names=class_names))\n",
    "\n",
    "print(\"Confusion Matrix:\")\n",
    "print(confusion_matrix(true_labels, predicted_labels))"
   ]
  },
  {
   "cell_type": "code",
   "execution_count": 12,
   "id": "719f65ed",
   "metadata": {},
   "outputs": [
    {
     "name": "stdout",
     "output_type": "stream",
     "text": [
      "['Aguante-Regular.otf', 'AlumniSansCollegiateOne-Italic.ttf', 'AlumniSansCollegiateOne-Regular.ttf', 'ArefRuqaaInk-Bold.ttf', 'ArefRuqaaInk-Regular.ttf', 'BrassMono-Bold.ttf', 'BrassMono-BoldItalic.ttf', 'BrassMono-Italic.ttf', 'BrassMono-Regular.ttf', 'GaneshaType-Regular.ttf', 'GhastlyPanicCyr.otf', 'Realest-Extended.otf', 'TanaUncialSP.otf', 'ambidexter_regular.otf', 'better-vcr-5.2.ttf']\n"
     ]
    }
   ],
   "source": [
    "print(class_names)"
   ]
  },
  {
   "cell_type": "markdown",
   "id": "137a8966",
   "metadata": {},
   "source": [
    "### Сохранение чекпойнта модели"
   ]
  },
  {
   "cell_type": "code",
   "execution_count": 10,
   "id": "5285e9de",
   "metadata": {},
   "outputs": [],
   "source": [
    "model.save('font_model.h5')"
   ]
  },
  {
   "cell_type": "markdown",
   "id": "7881b1d7",
   "metadata": {},
   "source": [
    "# Консольное приложение \n",
    "\n",
    "> pip install virtualenv\n",
    "\n",
    "> virtualenv venv\n",
    "\n",
    "> source venv/bin/activate\n",
    "\n",
    "> pip install tensorflow numpy\n",
    "\n",
    "> pip install Pillow\n",
    "\n",
    "> python3 font.py font_model.h5 test.png\n",
    "\n",
    "> deactivate"
   ]
  }
 ],
 "metadata": {
  "kernelspec": {
   "display_name": "Python 3 (ipykernel)",
   "language": "python",
   "name": "python3"
  },
  "language_info": {
   "codemirror_mode": {
    "name": "ipython",
    "version": 3
   },
   "file_extension": ".py",
   "mimetype": "text/x-python",
   "name": "python",
   "nbconvert_exporter": "python",
   "pygments_lexer": "ipython3",
   "version": "3.7.16"
  }
 },
 "nbformat": 4,
 "nbformat_minor": 5
}
